{
  "nbformat": 4,
  "nbformat_minor": 0,
  "metadata": {
    "colab": {
      "name": "IIVP_PROJ",
      "provenance": [],
      "collapsed_sections": []
    },
    "kernelspec": {
      "name": "python3",
      "display_name": "Python 3"
    },
    "accelerator": "GPU"
  },
  "cells": [
    {
      "cell_type": "code",
      "metadata": {
        "id": "aJF7IUuZdPIp",
        "outputId": "9156e2b1-8157-4b8f-cd31-651a87e3f071",
        "colab": {
          "base_uri": "https://localhost:8080/"
        }
      },
      "source": [
        "import keras\n",
        "from keras.preprocessing.image import ImageDataGenerator\n",
        "from keras.models import Sequential\n",
        "from keras.layers import Dense,Dropout,Activation,Flatten,BatchNormalization\n",
        "from keras.layers import Conv2D,MaxPooling2D\n",
        "import os\n",
        "import cv2\n",
        "import numpy as np\n",
        "import pandas as pd\n",
        "from pandas import ExcelWriter\n",
        "from pandas import ExcelFile\n",
        "import matplotlib.pyplot as plt\n",
        "from keras.optimizers import RMSprop,SGD,Adam\n",
        "from keras.callbacks import ModelCheckpoint, EarlyStopping, ReduceLROnPlateau\n",
        "\n",
        "from google.colab import drive\n",
        "drive.mount('/content/drive')"
      ],
      "execution_count": 2,
      "outputs": [
        {
          "output_type": "stream",
          "text": [
            "Mounted at /content/drive\n"
          ],
          "name": "stdout"
        }
      ]
    },
    {
      "cell_type": "code",
      "metadata": {
        "id": "b5KsfrVydWrb",
        "outputId": "884dc888-3ff5-481a-d23a-26d06f5165fc",
        "colab": {
          "base_uri": "https://localhost:8080/"
        }
      },
      "source": [
        "num_classes=7\n",
        "img_rows,img_cols=48,48\n",
        "batch_size=32\n",
        "\n",
        "train_datagen = ImageDataGenerator(\n",
        "    rescale=1./255,\n",
        "    rotation_range=30,\n",
        "    shear_range=0.3,\n",
        "    zoom_range=0.3,\n",
        "    width_shift_range=0.4,\n",
        "    height_shift_range=0.4,\n",
        "    horizontal_flip=True,\n",
        "    fill_mode='nearest')\n",
        "\n",
        "validation_datagen = ImageDataGenerator(rescale=1./255)\n",
        "\n",
        "train_data_dir='/content/drive/My Drive/Colab Notebooks/train'\n",
        "validation_data_dir='/content/drive/My Drive/Colab Notebooks/test'\n",
        "\n",
        "train_generator = train_datagen.flow_from_directory(\n",
        "                    train_data_dir,\n",
        "                    color_mode='grayscale',\n",
        "                    target_size=(img_rows,img_cols),\n",
        "                    batch_size=batch_size,\n",
        "                    class_mode='categorical',\n",
        "                    shuffle=True)\n",
        "\n",
        "validation_generator = validation_datagen.flow_from_directory(\n",
        "                            validation_data_dir,\n",
        "                            color_mode='grayscale',\n",
        "                            target_size=(img_rows,img_cols),\n",
        "                            batch_size=batch_size,\n",
        "                            class_mode='categorical',\n",
        "                            shuffle=True)"
      ],
      "execution_count": 3,
      "outputs": [
        {
          "output_type": "stream",
          "text": [
            "Found 1173 images belonging to 7 classes.\n",
            "Found 293 images belonging to 7 classes.\n"
          ],
          "name": "stdout"
        }
      ]
    },
    {
      "cell_type": "code",
      "metadata": {
        "id": "Rpm2-p_vupGs"
      },
      "source": [
        "def addModel(model,features,shape,kernelInit,activationFunction,poolSize,dropoutRatio):\n",
        "  model.add(Conv2D(features,shape,padding='same',kernel_initializer=kernelInit,input_shape=(img_rows,img_cols,1)))\n",
        "  model.add(Activation(activationFunction))\n",
        "  model.add(BatchNormalization())\n",
        "  model.add(Conv2D(features,shape,padding='same',kernel_initializer=kernelInit,input_shape=(img_rows,img_cols,1)))\n",
        "  model.add(Activation(activationFunction))\n",
        "  model.add(BatchNormalization())\n",
        "  model.add(MaxPooling2D(pool_size=poolSize))\n",
        "  model.add(Dropout(dropoutRatio))\n",
        "  return model\n",
        "\n",
        "model = Sequential()\n",
        "kernelInit = 'he_normal'\n",
        "activationFunction = 'elu'\n",
        "addModel(model,16,(3,3),kernelInit,activationFunction,(2,2),0.2)\n",
        "addModel(model,32,(3,3),kernelInit,activationFunction,(2,2),0.2)\n",
        "addModel(model,64,(3,3),kernelInit,activationFunction,(2,2),0.2)\n",
        "addModel(model,128,(3,3),kernelInit,activationFunction,(2,2),0.2)\n",
        "addModel(model,256,(3,3),kernelInit,activationFunction,(2,2),0.2)\n",
        "\n",
        "model.add(Flatten())\n",
        "model.add(Dense(64,kernel_initializer=kernelInit))\n",
        "model.add(Activation(activationFunction))\n",
        "model.add(BatchNormalization())\n",
        "model.add(Dropout(0.5))\n",
        "\n",
        "model.add(Dense(64,kernel_initializer=kernelInit))\n",
        "model.add(Activation(activationFunction))\n",
        "model.add(BatchNormalization())\n",
        "model.add(Dropout(0.5))\n",
        "\n",
        "model.add(Dense(num_classes,kernel_initializer=kernelInit))\n",
        "model.add(Activation('softmax'))"
      ],
      "execution_count": 18,
      "outputs": []
    },
    {
      "cell_type": "code",
      "metadata": {
        "id": "SDuH3nrRurqV",
        "outputId": "1c8f20b8-5def-44d6-8128-329d84fdb095",
        "colab": {
          "base_uri": "https://localhost:8080/"
        }
      },
      "source": [
        "print(model.summary())\n"
      ],
      "execution_count": 19,
      "outputs": [
        {
          "output_type": "stream",
          "text": [
            "Model: \"sequential_5\"\n",
            "_________________________________________________________________\n",
            "Layer (type)                 Output Shape              Param #   \n",
            "=================================================================\n",
            "conv2d_32 (Conv2D)           (None, 48, 48, 16)        160       \n",
            "_________________________________________________________________\n",
            "activation_41 (Activation)   (None, 48, 48, 16)        0         \n",
            "_________________________________________________________________\n",
            "batch_normalization_36 (Batc (None, 48, 48, 16)        64        \n",
            "_________________________________________________________________\n",
            "conv2d_33 (Conv2D)           (None, 48, 48, 16)        2320      \n",
            "_________________________________________________________________\n",
            "activation_42 (Activation)   (None, 48, 48, 16)        0         \n",
            "_________________________________________________________________\n",
            "batch_normalization_37 (Batc (None, 48, 48, 16)        64        \n",
            "_________________________________________________________________\n",
            "max_pooling2d_15 (MaxPooling (None, 24, 24, 16)        0         \n",
            "_________________________________________________________________\n",
            "dropout_21 (Dropout)         (None, 24, 24, 16)        0         \n",
            "_________________________________________________________________\n",
            "conv2d_34 (Conv2D)           (None, 24, 24, 32)        4640      \n",
            "_________________________________________________________________\n",
            "activation_43 (Activation)   (None, 24, 24, 32)        0         \n",
            "_________________________________________________________________\n",
            "batch_normalization_38 (Batc (None, 24, 24, 32)        128       \n",
            "_________________________________________________________________\n",
            "conv2d_35 (Conv2D)           (None, 24, 24, 32)        9248      \n",
            "_________________________________________________________________\n",
            "activation_44 (Activation)   (None, 24, 24, 32)        0         \n",
            "_________________________________________________________________\n",
            "batch_normalization_39 (Batc (None, 24, 24, 32)        128       \n",
            "_________________________________________________________________\n",
            "max_pooling2d_16 (MaxPooling (None, 12, 12, 32)        0         \n",
            "_________________________________________________________________\n",
            "dropout_22 (Dropout)         (None, 12, 12, 32)        0         \n",
            "_________________________________________________________________\n",
            "conv2d_36 (Conv2D)           (None, 12, 12, 64)        18496     \n",
            "_________________________________________________________________\n",
            "activation_45 (Activation)   (None, 12, 12, 64)        0         \n",
            "_________________________________________________________________\n",
            "batch_normalization_40 (Batc (None, 12, 12, 64)        256       \n",
            "_________________________________________________________________\n",
            "conv2d_37 (Conv2D)           (None, 12, 12, 64)        36928     \n",
            "_________________________________________________________________\n",
            "activation_46 (Activation)   (None, 12, 12, 64)        0         \n",
            "_________________________________________________________________\n",
            "batch_normalization_41 (Batc (None, 12, 12, 64)        256       \n",
            "_________________________________________________________________\n",
            "max_pooling2d_17 (MaxPooling (None, 6, 6, 64)          0         \n",
            "_________________________________________________________________\n",
            "dropout_23 (Dropout)         (None, 6, 6, 64)          0         \n",
            "_________________________________________________________________\n",
            "conv2d_38 (Conv2D)           (None, 6, 6, 128)         73856     \n",
            "_________________________________________________________________\n",
            "activation_47 (Activation)   (None, 6, 6, 128)         0         \n",
            "_________________________________________________________________\n",
            "batch_normalization_42 (Batc (None, 6, 6, 128)         512       \n",
            "_________________________________________________________________\n",
            "conv2d_39 (Conv2D)           (None, 6, 6, 128)         147584    \n",
            "_________________________________________________________________\n",
            "activation_48 (Activation)   (None, 6, 6, 128)         0         \n",
            "_________________________________________________________________\n",
            "batch_normalization_43 (Batc (None, 6, 6, 128)         512       \n",
            "_________________________________________________________________\n",
            "max_pooling2d_18 (MaxPooling (None, 3, 3, 128)         0         \n",
            "_________________________________________________________________\n",
            "dropout_24 (Dropout)         (None, 3, 3, 128)         0         \n",
            "_________________________________________________________________\n",
            "conv2d_40 (Conv2D)           (None, 3, 3, 256)         295168    \n",
            "_________________________________________________________________\n",
            "activation_49 (Activation)   (None, 3, 3, 256)         0         \n",
            "_________________________________________________________________\n",
            "batch_normalization_44 (Batc (None, 3, 3, 256)         1024      \n",
            "_________________________________________________________________\n",
            "conv2d_41 (Conv2D)           (None, 3, 3, 256)         590080    \n",
            "_________________________________________________________________\n",
            "activation_50 (Activation)   (None, 3, 3, 256)         0         \n",
            "_________________________________________________________________\n",
            "batch_normalization_45 (Batc (None, 3, 3, 256)         1024      \n",
            "_________________________________________________________________\n",
            "max_pooling2d_19 (MaxPooling (None, 1, 1, 256)         0         \n",
            "_________________________________________________________________\n",
            "dropout_25 (Dropout)         (None, 1, 1, 256)         0         \n",
            "_________________________________________________________________\n",
            "flatten_3 (Flatten)          (None, 256)               0         \n",
            "_________________________________________________________________\n",
            "dense_9 (Dense)              (None, 64)                16448     \n",
            "_________________________________________________________________\n",
            "activation_51 (Activation)   (None, 64)                0         \n",
            "_________________________________________________________________\n",
            "batch_normalization_46 (Batc (None, 64)                256       \n",
            "_________________________________________________________________\n",
            "dropout_26 (Dropout)         (None, 64)                0         \n",
            "_________________________________________________________________\n",
            "dense_10 (Dense)             (None, 64)                4160      \n",
            "_________________________________________________________________\n",
            "activation_52 (Activation)   (None, 64)                0         \n",
            "_________________________________________________________________\n",
            "batch_normalization_47 (Batc (None, 64)                256       \n",
            "_________________________________________________________________\n",
            "dropout_27 (Dropout)         (None, 64)                0         \n",
            "_________________________________________________________________\n",
            "dense_11 (Dense)             (None, 7)                 455       \n",
            "_________________________________________________________________\n",
            "activation_53 (Activation)   (None, 7)                 0         \n",
            "=================================================================\n",
            "Total params: 1,204,023\n",
            "Trainable params: 1,201,783\n",
            "Non-trainable params: 2,240\n",
            "_________________________________________________________________\n",
            "None\n"
          ],
          "name": "stdout"
        }
      ]
    },
    {
      "cell_type": "code",
      "metadata": {
        "id": "aU3g-rbyuxDc"
      },
      "source": [
        "checkpoint = ModelCheckpoint('EmotionDetectionModel.h5',\n",
        "                             monitor='val_loss',\n",
        "                             mode='min',\n",
        "                             save_best_only=True,\n",
        "                             verbose=1)\n",
        "\n",
        "earlystop = EarlyStopping(monitor='val_loss',\n",
        "                          min_delta=0,\n",
        "                          patience=3,\n",
        "                          verbose=1,\n",
        "                          restore_best_weights=True\n",
        "                          )\n",
        "\n",
        "reduce_lr = ReduceLROnPlateau(monitor='val_loss',\n",
        "                              factor=0.2,\n",
        "                              patience=3,\n",
        "                              verbose=1,\n",
        "                              min_delta=0.0001)\n",
        "\n",
        "callbacks = [earlystop,checkpoint,reduce_lr]\n"
      ],
      "execution_count": 20,
      "outputs": []
    },
    {
      "cell_type": "code",
      "metadata": {
        "id": "I8Efg1nxuzWq",
        "outputId": "7a7c3ee3-1c90-42fc-8d84-181194e932a6",
        "colab": {
          "base_uri": "https://localhost:8080/"
        }
      },
      "source": [
        "model.compile(loss='categorical_crossentropy',\n",
        " optimizer = Adam(lr=0.001),\n",
        " metrics=['accuracy'])                                            \n",
        "\n",
        "nb_train_samples = 1173\n",
        "nb_validation_samples = 293\n",
        "epochs=25\n",
        "\n",
        "history=model.fit_generator(\n",
        "                train_generator,\n",
        "                steps_per_epoch=nb_train_samples//batch_size,\n",
        "                epochs=epochs,\n",
        "                callbacks=callbacks,\n",
        "                validation_data=validation_generator,\n",
        "                validation_steps=nb_validation_samples//batch_size)"
      ],
      "execution_count": 21,
      "outputs": [
        {
          "output_type": "stream",
          "text": [
            "Epoch 1/25\n",
            "36/36 [==============================] - ETA: 0s - loss: 3.2146 - accuracy: 0.1350\n",
            "Epoch 00001: val_loss improved from inf to 2.08737, saving model to EmotionDetectionModel.h5\n",
            "36/36 [==============================] - 4s 114ms/step - loss: 3.2146 - accuracy: 0.1350 - val_loss: 2.0874 - val_accuracy: 0.0382\n",
            "Epoch 2/25\n",
            "36/36 [==============================] - ETA: 0s - loss: 2.7725 - accuracy: 0.1849\n",
            "Epoch 00002: val_loss improved from 2.08737 to 1.81422, saving model to EmotionDetectionModel.h5\n",
            "36/36 [==============================] - 4s 99ms/step - loss: 2.7725 - accuracy: 0.1849 - val_loss: 1.8142 - val_accuracy: 0.1875\n",
            "Epoch 3/25\n",
            "36/36 [==============================] - ETA: 0s - loss: 2.5041 - accuracy: 0.2147\n",
            "Epoch 00003: val_loss did not improve from 1.81422\n",
            "36/36 [==============================] - 3s 96ms/step - loss: 2.5041 - accuracy: 0.2147 - val_loss: 1.9298 - val_accuracy: 0.1736\n",
            "Epoch 4/25\n",
            "36/36 [==============================] - ETA: 0s - loss: 2.2070 - accuracy: 0.2559\n",
            "Epoch 00004: val_loss improved from 1.81422 to 1.50577, saving model to EmotionDetectionModel.h5\n",
            "36/36 [==============================] - 4s 101ms/step - loss: 2.2070 - accuracy: 0.2559 - val_loss: 1.5058 - val_accuracy: 0.5868\n",
            "Epoch 5/25\n",
            "36/36 [==============================] - ETA: 0s - loss: 1.9980 - accuracy: 0.3041\n",
            "Epoch 00005: val_loss did not improve from 1.50577\n",
            "36/36 [==============================] - 3s 96ms/step - loss: 1.9980 - accuracy: 0.3041 - val_loss: 1.7611 - val_accuracy: 0.1701\n",
            "Epoch 6/25\n",
            "36/36 [==============================] - ETA: 0s - loss: 1.9668 - accuracy: 0.3190\n",
            "Epoch 00006: val_loss did not improve from 1.50577\n",
            "36/36 [==============================] - 3s 95ms/step - loss: 1.9668 - accuracy: 0.3190 - val_loss: 1.6666 - val_accuracy: 0.6007\n",
            "Epoch 7/25\n",
            "36/36 [==============================] - ETA: 0s - loss: 1.8466 - accuracy: 0.3760\n",
            "Epoch 00007: val_loss improved from 1.50577 to 1.47562, saving model to EmotionDetectionModel.h5\n",
            "36/36 [==============================] - 4s 99ms/step - loss: 1.8466 - accuracy: 0.3760 - val_loss: 1.4756 - val_accuracy: 0.6458\n",
            "Epoch 8/25\n",
            "36/36 [==============================] - ETA: 0s - loss: 1.8240 - accuracy: 0.3672\n",
            "Epoch 00008: val_loss improved from 1.47562 to 1.27163, saving model to EmotionDetectionModel.h5\n",
            "36/36 [==============================] - 4s 98ms/step - loss: 1.8240 - accuracy: 0.3672 - val_loss: 1.2716 - val_accuracy: 0.6493\n",
            "Epoch 9/25\n",
            "36/36 [==============================] - ETA: 0s - loss: 1.8043 - accuracy: 0.3988\n",
            "Epoch 00009: val_loss did not improve from 1.27163\n",
            "36/36 [==============================] - 3s 95ms/step - loss: 1.8043 - accuracy: 0.3988 - val_loss: 1.3606 - val_accuracy: 0.6389\n",
            "Epoch 10/25\n",
            "36/36 [==============================] - ETA: 0s - loss: 1.7431 - accuracy: 0.3926\n",
            "Epoch 00010: val_loss did not improve from 1.27163\n",
            "36/36 [==============================] - 4s 98ms/step - loss: 1.7431 - accuracy: 0.3926 - val_loss: 1.3730 - val_accuracy: 0.6458\n",
            "Epoch 11/25\n",
            "36/36 [==============================] - ETA: 0s - loss: 1.6751 - accuracy: 0.4049Restoring model weights from the end of the best epoch.\n",
            "\n",
            "Epoch 00011: val_loss did not improve from 1.27163\n",
            "\n",
            "Epoch 00011: ReduceLROnPlateau reducing learning rate to 0.00020000000949949026.\n",
            "36/36 [==============================] - 3s 95ms/step - loss: 1.6751 - accuracy: 0.4049 - val_loss: 1.3251 - val_accuracy: 0.6389\n",
            "Epoch 00011: early stopping\n"
          ],
          "name": "stdout"
        }
      ]
    },
    {
      "cell_type": "markdown",
      "metadata": {
        "id": "uZCHlLBJzxoQ"
      },
      "source": [
        ""
      ]
    }
  ]
}